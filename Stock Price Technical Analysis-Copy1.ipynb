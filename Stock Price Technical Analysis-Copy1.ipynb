{
 "cells": [
  {
   "cell_type": "code",
   "execution_count": 12,
   "metadata": {},
   "outputs": [],
   "source": [
    "import pandas as pd\n",
    "import numpy\n",
    "import matplotlib.pyplot as plt\n",
    "import cufflinks as cf\n",
    "from pandas_datareader import data"
   ]
  },
  {
   "cell_type": "code",
   "execution_count": 10,
   "metadata": {},
   "outputs": [
    {
     "name": "stdout",
     "output_type": "stream",
     "text": [
      "Collecting pandas-datareader\n",
      "  Downloading pandas_datareader-0.10.0-py3-none-any.whl (109 kB)\n",
      "\u001b[K     |████████████████████████████████| 109 kB 2.6 MB/s eta 0:00:01\n",
      "\u001b[?25hRequirement already satisfied: pandas>=0.23 in ./opt/anaconda3/lib/python3.8/site-packages (from pandas-datareader) (1.1.3)\n",
      "Requirement already satisfied: lxml in ./opt/anaconda3/lib/python3.8/site-packages (from pandas-datareader) (4.6.1)\n",
      "Requirement already satisfied: requests>=2.19.0 in ./opt/anaconda3/lib/python3.8/site-packages (from pandas-datareader) (2.27.1)\n",
      "Requirement already satisfied: python-dateutil>=2.7.3 in ./opt/anaconda3/lib/python3.8/site-packages (from pandas>=0.23->pandas-datareader) (2.8.1)\n",
      "Requirement already satisfied: numpy>=1.15.4 in ./opt/anaconda3/lib/python3.8/site-packages (from pandas>=0.23->pandas-datareader) (1.21.0)\n",
      "Requirement already satisfied: pytz>=2017.2 in ./opt/anaconda3/lib/python3.8/site-packages (from pandas>=0.23->pandas-datareader) (2020.1)\n",
      "Requirement already satisfied: charset-normalizer~=2.0.0; python_version >= \"3\" in ./opt/anaconda3/lib/python3.8/site-packages (from requests>=2.19.0->pandas-datareader) (2.0.12)\n",
      "Requirement already satisfied: idna<4,>=2.5; python_version >= \"3\" in ./opt/anaconda3/lib/python3.8/site-packages (from requests>=2.19.0->pandas-datareader) (2.10)\n",
      "Requirement already satisfied: urllib3<1.27,>=1.21.1 in ./opt/anaconda3/lib/python3.8/site-packages (from requests>=2.19.0->pandas-datareader) (1.26.7)\n",
      "Requirement already satisfied: certifi>=2017.4.17 in ./opt/anaconda3/lib/python3.8/site-packages (from requests>=2.19.0->pandas-datareader) (2020.6.20)\n",
      "Requirement already satisfied: six>=1.5 in ./opt/anaconda3/lib/python3.8/site-packages (from python-dateutil>=2.7.3->pandas>=0.23->pandas-datareader) (1.15.0)\n",
      "Installing collected packages: pandas-datareader\n",
      "Successfully installed pandas-datareader-0.10.0\n"
     ]
    }
   ],
   "source": [
    "!pip install pandas-datareader\n"
   ]
  },
  {
   "cell_type": "code",
   "execution_count": 2,
   "metadata": {},
   "outputs": [
    {
     "name": "stdout",
     "output_type": "stream",
     "text": [
      "Collecting cufflinks\n",
      "  Downloading cufflinks-0.17.3.tar.gz (81 kB)\n",
      "\u001b[K     |████████████████████████████████| 81 kB 2.8 MB/s eta 0:00:01\n",
      "\u001b[?25hRequirement already satisfied: numpy>=1.9.2 in ./opt/anaconda3/lib/python3.8/site-packages (from cufflinks) (1.21.0)\n",
      "Requirement already satisfied: pandas>=0.19.2 in ./opt/anaconda3/lib/python3.8/site-packages (from cufflinks) (1.1.3)\n",
      "Requirement already satisfied: plotly>=4.1.1 in ./opt/anaconda3/lib/python3.8/site-packages (from cufflinks) (5.8.0)\n",
      "Requirement already satisfied: six>=1.9.0 in ./opt/anaconda3/lib/python3.8/site-packages (from cufflinks) (1.15.0)\n",
      "Collecting colorlover>=0.2.1\n",
      "  Downloading colorlover-0.3.0-py3-none-any.whl (8.9 kB)\n",
      "Requirement already satisfied: setuptools>=34.4.1 in ./opt/anaconda3/lib/python3.8/site-packages (from cufflinks) (50.3.1.post20201107)\n",
      "Requirement already satisfied: ipython>=5.3.0 in ./opt/anaconda3/lib/python3.8/site-packages (from cufflinks) (7.19.0)\n",
      "Requirement already satisfied: ipywidgets>=7.0.0 in ./opt/anaconda3/lib/python3.8/site-packages (from cufflinks) (7.5.1)\n",
      "Requirement already satisfied: python-dateutil>=2.7.3 in ./opt/anaconda3/lib/python3.8/site-packages (from pandas>=0.19.2->cufflinks) (2.8.1)\n",
      "Requirement already satisfied: pytz>=2017.2 in ./opt/anaconda3/lib/python3.8/site-packages (from pandas>=0.19.2->cufflinks) (2020.1)\n",
      "Requirement already satisfied: tenacity>=6.2.0 in ./opt/anaconda3/lib/python3.8/site-packages (from plotly>=4.1.1->cufflinks) (8.0.1)\n",
      "Requirement already satisfied: prompt-toolkit!=3.0.0,!=3.0.1,<3.1.0,>=2.0.0 in ./opt/anaconda3/lib/python3.8/site-packages (from ipython>=5.3.0->cufflinks) (3.0.8)\n",
      "Requirement already satisfied: pickleshare in ./opt/anaconda3/lib/python3.8/site-packages (from ipython>=5.3.0->cufflinks) (0.7.5)\n",
      "Requirement already satisfied: backcall in ./opt/anaconda3/lib/python3.8/site-packages (from ipython>=5.3.0->cufflinks) (0.2.0)\n",
      "Requirement already satisfied: traitlets>=4.2 in ./opt/anaconda3/lib/python3.8/site-packages (from ipython>=5.3.0->cufflinks) (5.0.5)\n",
      "Requirement already satisfied: pygments in ./opt/anaconda3/lib/python3.8/site-packages (from ipython>=5.3.0->cufflinks) (2.7.2)\n",
      "Requirement already satisfied: appnope; sys_platform == \"darwin\" in ./opt/anaconda3/lib/python3.8/site-packages (from ipython>=5.3.0->cufflinks) (0.1.0)\n",
      "Requirement already satisfied: pexpect>4.3; sys_platform != \"win32\" in ./opt/anaconda3/lib/python3.8/site-packages (from ipython>=5.3.0->cufflinks) (4.8.0)\n",
      "Requirement already satisfied: decorator in ./opt/anaconda3/lib/python3.8/site-packages (from ipython>=5.3.0->cufflinks) (4.4.2)\n",
      "Requirement already satisfied: jedi>=0.10 in ./opt/anaconda3/lib/python3.8/site-packages (from ipython>=5.3.0->cufflinks) (0.17.1)\n",
      "Requirement already satisfied: widgetsnbextension~=3.5.0 in ./opt/anaconda3/lib/python3.8/site-packages (from ipywidgets>=7.0.0->cufflinks) (3.5.1)\n",
      "Requirement already satisfied: nbformat>=4.2.0 in ./opt/anaconda3/lib/python3.8/site-packages (from ipywidgets>=7.0.0->cufflinks) (5.0.8)\n",
      "Requirement already satisfied: ipykernel>=4.5.1 in ./opt/anaconda3/lib/python3.8/site-packages (from ipywidgets>=7.0.0->cufflinks) (5.3.4)\n",
      "Requirement already satisfied: wcwidth in ./opt/anaconda3/lib/python3.8/site-packages (from prompt-toolkit!=3.0.0,!=3.0.1,<3.1.0,>=2.0.0->ipython>=5.3.0->cufflinks) (0.2.5)\n",
      "Requirement already satisfied: ipython-genutils in ./opt/anaconda3/lib/python3.8/site-packages (from traitlets>=4.2->ipython>=5.3.0->cufflinks) (0.2.0)\n",
      "Requirement already satisfied: ptyprocess>=0.5 in ./opt/anaconda3/lib/python3.8/site-packages (from pexpect>4.3; sys_platform != \"win32\"->ipython>=5.3.0->cufflinks) (0.6.0)\n",
      "Requirement already satisfied: parso<0.8.0,>=0.7.0 in ./opt/anaconda3/lib/python3.8/site-packages (from jedi>=0.10->ipython>=5.3.0->cufflinks) (0.7.0)\n",
      "Requirement already satisfied: notebook>=4.4.1 in ./opt/anaconda3/lib/python3.8/site-packages (from widgetsnbextension~=3.5.0->ipywidgets>=7.0.0->cufflinks) (6.3.0)\n",
      "Requirement already satisfied: jsonschema!=2.5.0,>=2.4 in ./opt/anaconda3/lib/python3.8/site-packages (from nbformat>=4.2.0->ipywidgets>=7.0.0->cufflinks) (3.2.0)\n",
      "Requirement already satisfied: jupyter-core in ./opt/anaconda3/lib/python3.8/site-packages (from nbformat>=4.2.0->ipywidgets>=7.0.0->cufflinks) (4.6.3)\n",
      "Requirement already satisfied: jupyter-client in ./opt/anaconda3/lib/python3.8/site-packages (from ipykernel>=4.5.1->ipywidgets>=7.0.0->cufflinks) (6.1.7)\n",
      "Requirement already satisfied: tornado>=4.2 in ./opt/anaconda3/lib/python3.8/site-packages (from ipykernel>=4.5.1->ipywidgets>=7.0.0->cufflinks) (6.1)\n",
      "Requirement already satisfied: argon2-cffi in ./opt/anaconda3/lib/python3.8/site-packages (from notebook>=4.4.1->widgetsnbextension~=3.5.0->ipywidgets>=7.0.0->cufflinks) (20.1.0)\n",
      "Requirement already satisfied: pyzmq>=17 in ./opt/anaconda3/lib/python3.8/site-packages (from notebook>=4.4.1->widgetsnbextension~=3.5.0->ipywidgets>=7.0.0->cufflinks) (19.0.2)\n",
      "Requirement already satisfied: nbconvert in ./opt/anaconda3/lib/python3.8/site-packages (from notebook>=4.4.1->widgetsnbextension~=3.5.0->ipywidgets>=7.0.0->cufflinks) (5.4.1)\n",
      "Requirement already satisfied: terminado>=0.8.3 in ./opt/anaconda3/lib/python3.8/site-packages (from notebook>=4.4.1->widgetsnbextension~=3.5.0->ipywidgets>=7.0.0->cufflinks) (0.9.1)\n",
      "Requirement already satisfied: Send2Trash>=1.5.0 in ./opt/anaconda3/lib/python3.8/site-packages (from notebook>=4.4.1->widgetsnbextension~=3.5.0->ipywidgets>=7.0.0->cufflinks) (1.5.0)\n",
      "Requirement already satisfied: prometheus-client in ./opt/anaconda3/lib/python3.8/site-packages (from notebook>=4.4.1->widgetsnbextension~=3.5.0->ipywidgets>=7.0.0->cufflinks) (0.8.0)\n",
      "Requirement already satisfied: jinja2 in ./opt/anaconda3/lib/python3.8/site-packages (from notebook>=4.4.1->widgetsnbextension~=3.5.0->ipywidgets>=7.0.0->cufflinks) (2.11.2)\n",
      "Requirement already satisfied: attrs>=17.4.0 in ./opt/anaconda3/lib/python3.8/site-packages (from jsonschema!=2.5.0,>=2.4->nbformat>=4.2.0->ipywidgets>=7.0.0->cufflinks) (20.3.0)\n",
      "Requirement already satisfied: pyrsistent>=0.14.0 in ./opt/anaconda3/lib/python3.8/site-packages (from jsonschema!=2.5.0,>=2.4->nbformat>=4.2.0->ipywidgets>=7.0.0->cufflinks) (0.17.3)\n",
      "Requirement already satisfied: cffi>=1.0.0 in ./opt/anaconda3/lib/python3.8/site-packages (from argon2-cffi->notebook>=4.4.1->widgetsnbextension~=3.5.0->ipywidgets>=7.0.0->cufflinks) (1.14.3)\n",
      "Requirement already satisfied: pandocfilters>=1.4.1 in ./opt/anaconda3/lib/python3.8/site-packages (from nbconvert->notebook>=4.4.1->widgetsnbextension~=3.5.0->ipywidgets>=7.0.0->cufflinks) (1.4.3)\n",
      "Requirement already satisfied: testpath in ./opt/anaconda3/lib/python3.8/site-packages (from nbconvert->notebook>=4.4.1->widgetsnbextension~=3.5.0->ipywidgets>=7.0.0->cufflinks) (0.4.4)\n",
      "Requirement already satisfied: defusedxml in ./opt/anaconda3/lib/python3.8/site-packages (from nbconvert->notebook>=4.4.1->widgetsnbextension~=3.5.0->ipywidgets>=7.0.0->cufflinks) (0.6.0)\n",
      "Requirement already satisfied: mistune>=0.8.1 in ./opt/anaconda3/lib/python3.8/site-packages (from nbconvert->notebook>=4.4.1->widgetsnbextension~=3.5.0->ipywidgets>=7.0.0->cufflinks) (0.8.4)\n",
      "Requirement already satisfied: entrypoints>=0.2.2 in ./opt/anaconda3/lib/python3.8/site-packages (from nbconvert->notebook>=4.4.1->widgetsnbextension~=3.5.0->ipywidgets>=7.0.0->cufflinks) (0.3)\n",
      "Requirement already satisfied: bleach in ./opt/anaconda3/lib/python3.8/site-packages (from nbconvert->notebook>=4.4.1->widgetsnbextension~=3.5.0->ipywidgets>=7.0.0->cufflinks) (3.2.1)\n",
      "Requirement already satisfied: MarkupSafe>=0.23 in ./opt/anaconda3/lib/python3.8/site-packages (from jinja2->notebook>=4.4.1->widgetsnbextension~=3.5.0->ipywidgets>=7.0.0->cufflinks) (1.1.1)\n",
      "Requirement already satisfied: pycparser in ./opt/anaconda3/lib/python3.8/site-packages (from cffi>=1.0.0->argon2-cffi->notebook>=4.4.1->widgetsnbextension~=3.5.0->ipywidgets>=7.0.0->cufflinks) (2.20)\n",
      "Requirement already satisfied: packaging in ./opt/anaconda3/lib/python3.8/site-packages (from bleach->nbconvert->notebook>=4.4.1->widgetsnbextension~=3.5.0->ipywidgets>=7.0.0->cufflinks) (20.4)\n",
      "Requirement already satisfied: webencodings in ./opt/anaconda3/lib/python3.8/site-packages (from bleach->nbconvert->notebook>=4.4.1->widgetsnbextension~=3.5.0->ipywidgets>=7.0.0->cufflinks) (0.5.1)\n",
      "Requirement already satisfied: pyparsing>=2.0.2 in ./opt/anaconda3/lib/python3.8/site-packages (from packaging->bleach->nbconvert->notebook>=4.4.1->widgetsnbextension~=3.5.0->ipywidgets>=7.0.0->cufflinks) (2.4.7)\n",
      "Building wheels for collected packages: cufflinks\n",
      "  Building wheel for cufflinks (setup.py) ... \u001b[?25ldone\n",
      "\u001b[?25h  Created wheel for cufflinks: filename=cufflinks-0.17.3-py3-none-any.whl size=67921 sha256=d78829f0a0e89c0bc1cf33c03f456277ceb055586e76b902b7e6583000a88eac\n",
      "  Stored in directory: /Users/mayankpandey/Library/Caches/pip/wheels/6b/76/62/6da97734911ffcbdd559fd1a3f28526321f0ae699182a23866\n",
      "Successfully built cufflinks\n",
      "Installing collected packages: colorlover, cufflinks\n",
      "Successfully installed colorlover-0.3.0 cufflinks-0.17.3\n"
     ]
    }
   ],
   "source": [
    "!pip install cufflinks\n"
   ]
  },
  {
   "cell_type": "code",
   "execution_count": 17,
   "metadata": {},
   "outputs": [],
   "source": [
    "start = '2010-01-01'\n",
    "end = '2022-04-30'"
   ]
  },
  {
   "cell_type": "code",
   "execution_count": 5,
   "metadata": {},
   "outputs": [],
   "source": [
    "symbol = 'msft'"
   ]
  },
  {
   "cell_type": "code",
   "execution_count": 18,
   "metadata": {},
   "outputs": [],
   "source": [
    "df = data.DataReader(name=symbol,data_source='yahoo', start=start,end=end)"
   ]
  },
  {
   "cell_type": "code",
   "execution_count": 19,
   "metadata": {},
   "outputs": [],
   "source": [
    "symbol = ['msft','aapl']"
   ]
  },
  {
   "cell_type": "code",
   "execution_count": 20,
   "metadata": {},
   "outputs": [],
   "source": [
    "df = data.DataReader(name=symbol,data_source='yahoo', start=start,end=end)"
   ]
  },
  {
   "cell_type": "code",
   "execution_count": 21,
   "metadata": {},
   "outputs": [
    {
     "data": {
      "text/html": [
       "<div>\n",
       "<style scoped>\n",
       "    .dataframe tbody tr th:only-of-type {\n",
       "        vertical-align: middle;\n",
       "    }\n",
       "\n",
       "    .dataframe tbody tr th {\n",
       "        vertical-align: top;\n",
       "    }\n",
       "\n",
       "    .dataframe thead tr th {\n",
       "        text-align: left;\n",
       "    }\n",
       "\n",
       "    .dataframe thead tr:last-of-type th {\n",
       "        text-align: right;\n",
       "    }\n",
       "</style>\n",
       "<table border=\"1\" class=\"dataframe\">\n",
       "  <thead>\n",
       "    <tr>\n",
       "      <th>Attributes</th>\n",
       "      <th colspan=\"2\" halign=\"left\">Adj Close</th>\n",
       "      <th colspan=\"2\" halign=\"left\">Close</th>\n",
       "      <th colspan=\"2\" halign=\"left\">High</th>\n",
       "      <th colspan=\"2\" halign=\"left\">Low</th>\n",
       "      <th colspan=\"2\" halign=\"left\">Open</th>\n",
       "      <th colspan=\"2\" halign=\"left\">Volume</th>\n",
       "    </tr>\n",
       "    <tr>\n",
       "      <th>Symbols</th>\n",
       "      <th>msft</th>\n",
       "      <th>aapl</th>\n",
       "      <th>msft</th>\n",
       "      <th>aapl</th>\n",
       "      <th>msft</th>\n",
       "      <th>aapl</th>\n",
       "      <th>msft</th>\n",
       "      <th>aapl</th>\n",
       "      <th>msft</th>\n",
       "      <th>aapl</th>\n",
       "      <th>msft</th>\n",
       "      <th>aapl</th>\n",
       "    </tr>\n",
       "    <tr>\n",
       "      <th>Date</th>\n",
       "      <th></th>\n",
       "      <th></th>\n",
       "      <th></th>\n",
       "      <th></th>\n",
       "      <th></th>\n",
       "      <th></th>\n",
       "      <th></th>\n",
       "      <th></th>\n",
       "      <th></th>\n",
       "      <th></th>\n",
       "      <th></th>\n",
       "      <th></th>\n",
       "    </tr>\n",
       "  </thead>\n",
       "  <tbody>\n",
       "    <tr>\n",
       "      <th>2010-01-04</th>\n",
       "      <td>23.855656</td>\n",
       "      <td>6.535086</td>\n",
       "      <td>30.950001</td>\n",
       "      <td>7.643214</td>\n",
       "      <td>31.100000</td>\n",
       "      <td>7.660714</td>\n",
       "      <td>30.590000</td>\n",
       "      <td>7.585000</td>\n",
       "      <td>30.620001</td>\n",
       "      <td>7.622500</td>\n",
       "      <td>38409100.0</td>\n",
       "      <td>493729600.0</td>\n",
       "    </tr>\n",
       "    <tr>\n",
       "      <th>2010-01-05</th>\n",
       "      <td>23.863363</td>\n",
       "      <td>6.546383</td>\n",
       "      <td>30.959999</td>\n",
       "      <td>7.656429</td>\n",
       "      <td>31.100000</td>\n",
       "      <td>7.699643</td>\n",
       "      <td>30.639999</td>\n",
       "      <td>7.616071</td>\n",
       "      <td>30.850000</td>\n",
       "      <td>7.664286</td>\n",
       "      <td>49749600.0</td>\n",
       "      <td>601904800.0</td>\n",
       "    </tr>\n",
       "    <tr>\n",
       "      <th>2010-01-06</th>\n",
       "      <td>23.716917</td>\n",
       "      <td>6.442255</td>\n",
       "      <td>30.770000</td>\n",
       "      <td>7.534643</td>\n",
       "      <td>31.080000</td>\n",
       "      <td>7.686786</td>\n",
       "      <td>30.520000</td>\n",
       "      <td>7.526786</td>\n",
       "      <td>30.879999</td>\n",
       "      <td>7.656429</td>\n",
       "      <td>58182400.0</td>\n",
       "      <td>552160000.0</td>\n",
       "    </tr>\n",
       "    <tr>\n",
       "      <th>2010-01-07</th>\n",
       "      <td>23.470264</td>\n",
       "      <td>6.430345</td>\n",
       "      <td>30.450001</td>\n",
       "      <td>7.520714</td>\n",
       "      <td>30.700001</td>\n",
       "      <td>7.571429</td>\n",
       "      <td>30.190001</td>\n",
       "      <td>7.466071</td>\n",
       "      <td>30.629999</td>\n",
       "      <td>7.562500</td>\n",
       "      <td>50559700.0</td>\n",
       "      <td>477131200.0</td>\n",
       "    </tr>\n",
       "    <tr>\n",
       "      <th>2010-01-08</th>\n",
       "      <td>23.632130</td>\n",
       "      <td>6.473097</td>\n",
       "      <td>30.660000</td>\n",
       "      <td>7.570714</td>\n",
       "      <td>30.879999</td>\n",
       "      <td>7.571429</td>\n",
       "      <td>30.240000</td>\n",
       "      <td>7.466429</td>\n",
       "      <td>30.280001</td>\n",
       "      <td>7.510714</td>\n",
       "      <td>51197400.0</td>\n",
       "      <td>447610800.0</td>\n",
       "    </tr>\n",
       "  </tbody>\n",
       "</table>\n",
       "</div>"
      ],
      "text/plain": [
       "Attributes  Adj Close                Close                 High            \\\n",
       "Symbols          msft      aapl       msft      aapl       msft      aapl   \n",
       "Date                                                                        \n",
       "2010-01-04  23.855656  6.535086  30.950001  7.643214  31.100000  7.660714   \n",
       "2010-01-05  23.863363  6.546383  30.959999  7.656429  31.100000  7.699643   \n",
       "2010-01-06  23.716917  6.442255  30.770000  7.534643  31.080000  7.686786   \n",
       "2010-01-07  23.470264  6.430345  30.450001  7.520714  30.700001  7.571429   \n",
       "2010-01-08  23.632130  6.473097  30.660000  7.570714  30.879999  7.571429   \n",
       "\n",
       "Attributes        Low                 Open                Volume               \n",
       "Symbols          msft      aapl       msft      aapl        msft         aapl  \n",
       "Date                                                                           \n",
       "2010-01-04  30.590000  7.585000  30.620001  7.622500  38409100.0  493729600.0  \n",
       "2010-01-05  30.639999  7.616071  30.850000  7.664286  49749600.0  601904800.0  \n",
       "2010-01-06  30.520000  7.526786  30.879999  7.656429  58182400.0  552160000.0  \n",
       "2010-01-07  30.190001  7.466071  30.629999  7.562500  50559700.0  477131200.0  \n",
       "2010-01-08  30.240000  7.466429  30.280001  7.510714  51197400.0  447610800.0  "
      ]
     },
     "execution_count": 21,
     "metadata": {},
     "output_type": "execute_result"
    }
   ],
   "source": [
    "df.head()"
   ]
  },
  {
   "cell_type": "code",
   "execution_count": 22,
   "metadata": {},
   "outputs": [],
   "source": [
    "df.to_csv(\"stock.csv\")"
   ]
  },
  {
   "cell_type": "code",
   "execution_count": 26,
   "metadata": {},
   "outputs": [
    {
     "name": "stdout",
     "output_type": "stream",
     "text": [
      "/Users/mayankpandey\n"
     ]
    }
   ],
   "source": [
    "import os\n",
    "print(os.getcwd())"
   ]
  },
  {
   "cell_type": "code",
   "execution_count": 28,
   "metadata": {},
   "outputs": [],
   "source": [
    "df = pd.read_csv(\"stock.csv\",header = [0,1],index_col = 0,parse_dates = [0])"
   ]
  },
  {
   "cell_type": "code",
   "execution_count": 29,
   "metadata": {},
   "outputs": [
    {
     "data": {
      "text/html": [
       "<div>\n",
       "<style scoped>\n",
       "    .dataframe tbody tr th:only-of-type {\n",
       "        vertical-align: middle;\n",
       "    }\n",
       "\n",
       "    .dataframe tbody tr th {\n",
       "        vertical-align: top;\n",
       "    }\n",
       "\n",
       "    .dataframe thead tr th {\n",
       "        text-align: left;\n",
       "    }\n",
       "\n",
       "    .dataframe thead tr:last-of-type th {\n",
       "        text-align: right;\n",
       "    }\n",
       "</style>\n",
       "<table border=\"1\" class=\"dataframe\">\n",
       "  <thead>\n",
       "    <tr>\n",
       "      <th>Attributes</th>\n",
       "      <th colspan=\"2\" halign=\"left\">Adj Close</th>\n",
       "      <th colspan=\"2\" halign=\"left\">Close</th>\n",
       "      <th colspan=\"2\" halign=\"left\">High</th>\n",
       "      <th colspan=\"2\" halign=\"left\">Low</th>\n",
       "      <th colspan=\"2\" halign=\"left\">Open</th>\n",
       "      <th colspan=\"2\" halign=\"left\">Volume</th>\n",
       "    </tr>\n",
       "    <tr>\n",
       "      <th>Symbols</th>\n",
       "      <th>msft</th>\n",
       "      <th>aapl</th>\n",
       "      <th>msft</th>\n",
       "      <th>aapl</th>\n",
       "      <th>msft</th>\n",
       "      <th>aapl</th>\n",
       "      <th>msft</th>\n",
       "      <th>aapl</th>\n",
       "      <th>msft</th>\n",
       "      <th>aapl</th>\n",
       "      <th>msft</th>\n",
       "      <th>aapl</th>\n",
       "    </tr>\n",
       "    <tr>\n",
       "      <th>Date</th>\n",
       "      <th></th>\n",
       "      <th></th>\n",
       "      <th></th>\n",
       "      <th></th>\n",
       "      <th></th>\n",
       "      <th></th>\n",
       "      <th></th>\n",
       "      <th></th>\n",
       "      <th></th>\n",
       "      <th></th>\n",
       "      <th></th>\n",
       "      <th></th>\n",
       "    </tr>\n",
       "  </thead>\n",
       "  <tbody>\n",
       "    <tr>\n",
       "      <th>2010-01-04</th>\n",
       "      <td>23.855656</td>\n",
       "      <td>6.535086</td>\n",
       "      <td>30.950001</td>\n",
       "      <td>7.643214</td>\n",
       "      <td>31.100000</td>\n",
       "      <td>7.660714</td>\n",
       "      <td>30.590000</td>\n",
       "      <td>7.585000</td>\n",
       "      <td>30.620001</td>\n",
       "      <td>7.622500</td>\n",
       "      <td>38409100.0</td>\n",
       "      <td>493729600.0</td>\n",
       "    </tr>\n",
       "    <tr>\n",
       "      <th>2010-01-05</th>\n",
       "      <td>23.863363</td>\n",
       "      <td>6.546383</td>\n",
       "      <td>30.959999</td>\n",
       "      <td>7.656429</td>\n",
       "      <td>31.100000</td>\n",
       "      <td>7.699643</td>\n",
       "      <td>30.639999</td>\n",
       "      <td>7.616071</td>\n",
       "      <td>30.850000</td>\n",
       "      <td>7.664286</td>\n",
       "      <td>49749600.0</td>\n",
       "      <td>601904800.0</td>\n",
       "    </tr>\n",
       "    <tr>\n",
       "      <th>2010-01-06</th>\n",
       "      <td>23.716917</td>\n",
       "      <td>6.442255</td>\n",
       "      <td>30.770000</td>\n",
       "      <td>7.534643</td>\n",
       "      <td>31.080000</td>\n",
       "      <td>7.686786</td>\n",
       "      <td>30.520000</td>\n",
       "      <td>7.526786</td>\n",
       "      <td>30.879999</td>\n",
       "      <td>7.656429</td>\n",
       "      <td>58182400.0</td>\n",
       "      <td>552160000.0</td>\n",
       "    </tr>\n",
       "    <tr>\n",
       "      <th>2010-01-07</th>\n",
       "      <td>23.470264</td>\n",
       "      <td>6.430345</td>\n",
       "      <td>30.450001</td>\n",
       "      <td>7.520714</td>\n",
       "      <td>30.700001</td>\n",
       "      <td>7.571429</td>\n",
       "      <td>30.190001</td>\n",
       "      <td>7.466071</td>\n",
       "      <td>30.629999</td>\n",
       "      <td>7.562500</td>\n",
       "      <td>50559700.0</td>\n",
       "      <td>477131200.0</td>\n",
       "    </tr>\n",
       "    <tr>\n",
       "      <th>2010-01-08</th>\n",
       "      <td>23.632130</td>\n",
       "      <td>6.473097</td>\n",
       "      <td>30.660000</td>\n",
       "      <td>7.570714</td>\n",
       "      <td>30.879999</td>\n",
       "      <td>7.571429</td>\n",
       "      <td>30.240000</td>\n",
       "      <td>7.466429</td>\n",
       "      <td>30.280001</td>\n",
       "      <td>7.510714</td>\n",
       "      <td>51197400.0</td>\n",
       "      <td>447610800.0</td>\n",
       "    </tr>\n",
       "    <tr>\n",
       "      <th>...</th>\n",
       "      <td>...</td>\n",
       "      <td>...</td>\n",
       "      <td>...</td>\n",
       "      <td>...</td>\n",
       "      <td>...</td>\n",
       "      <td>...</td>\n",
       "      <td>...</td>\n",
       "      <td>...</td>\n",
       "      <td>...</td>\n",
       "      <td>...</td>\n",
       "      <td>...</td>\n",
       "      <td>...</td>\n",
       "    </tr>\n",
       "    <tr>\n",
       "      <th>2022-04-25</th>\n",
       "      <td>280.720001</td>\n",
       "      <td>162.641037</td>\n",
       "      <td>280.720001</td>\n",
       "      <td>162.880005</td>\n",
       "      <td>281.109985</td>\n",
       "      <td>163.169998</td>\n",
       "      <td>270.769989</td>\n",
       "      <td>158.460007</td>\n",
       "      <td>273.290009</td>\n",
       "      <td>161.119995</td>\n",
       "      <td>35678900.0</td>\n",
       "      <td>96046400.0</td>\n",
       "    </tr>\n",
       "    <tr>\n",
       "      <th>2022-04-26</th>\n",
       "      <td>270.220001</td>\n",
       "      <td>156.569962</td>\n",
       "      <td>270.220001</td>\n",
       "      <td>156.800003</td>\n",
       "      <td>278.359985</td>\n",
       "      <td>162.339996</td>\n",
       "      <td>270.000000</td>\n",
       "      <td>156.720001</td>\n",
       "      <td>277.500000</td>\n",
       "      <td>162.250000</td>\n",
       "      <td>46518400.0</td>\n",
       "      <td>95623200.0</td>\n",
       "    </tr>\n",
       "    <tr>\n",
       "      <th>2022-04-27</th>\n",
       "      <td>283.220001</td>\n",
       "      <td>156.340302</td>\n",
       "      <td>283.220001</td>\n",
       "      <td>156.570007</td>\n",
       "      <td>290.970001</td>\n",
       "      <td>159.789993</td>\n",
       "      <td>279.160004</td>\n",
       "      <td>155.380005</td>\n",
       "      <td>282.100006</td>\n",
       "      <td>155.910004</td>\n",
       "      <td>63477700.0</td>\n",
       "      <td>88063200.0</td>\n",
       "    </tr>\n",
       "    <tr>\n",
       "      <th>2022-04-28</th>\n",
       "      <td>289.630005</td>\n",
       "      <td>163.399918</td>\n",
       "      <td>289.630005</td>\n",
       "      <td>163.639999</td>\n",
       "      <td>290.980011</td>\n",
       "      <td>164.520004</td>\n",
       "      <td>281.459991</td>\n",
       "      <td>158.929993</td>\n",
       "      <td>285.190002</td>\n",
       "      <td>159.250000</td>\n",
       "      <td>33646600.0</td>\n",
       "      <td>130216800.0</td>\n",
       "    </tr>\n",
       "    <tr>\n",
       "      <th>2022-04-29</th>\n",
       "      <td>277.519989</td>\n",
       "      <td>157.418701</td>\n",
       "      <td>277.519989</td>\n",
       "      <td>157.649994</td>\n",
       "      <td>289.880005</td>\n",
       "      <td>166.199997</td>\n",
       "      <td>276.500000</td>\n",
       "      <td>157.250000</td>\n",
       "      <td>288.609985</td>\n",
       "      <td>161.839996</td>\n",
       "      <td>37025000.0</td>\n",
       "      <td>131587100.0</td>\n",
       "    </tr>\n",
       "  </tbody>\n",
       "</table>\n",
       "<p>3103 rows × 12 columns</p>\n",
       "</div>"
      ],
      "text/plain": [
       "Attributes   Adj Close                   Close                    High  \\\n",
       "Symbols           msft        aapl        msft        aapl        msft   \n",
       "Date                                                                     \n",
       "2010-01-04   23.855656    6.535086   30.950001    7.643214   31.100000   \n",
       "2010-01-05   23.863363    6.546383   30.959999    7.656429   31.100000   \n",
       "2010-01-06   23.716917    6.442255   30.770000    7.534643   31.080000   \n",
       "2010-01-07   23.470264    6.430345   30.450001    7.520714   30.700001   \n",
       "2010-01-08   23.632130    6.473097   30.660000    7.570714   30.879999   \n",
       "...                ...         ...         ...         ...         ...   \n",
       "2022-04-25  280.720001  162.641037  280.720001  162.880005  281.109985   \n",
       "2022-04-26  270.220001  156.569962  270.220001  156.800003  278.359985   \n",
       "2022-04-27  283.220001  156.340302  283.220001  156.570007  290.970001   \n",
       "2022-04-28  289.630005  163.399918  289.630005  163.639999  290.980011   \n",
       "2022-04-29  277.519989  157.418701  277.519989  157.649994  289.880005   \n",
       "\n",
       "Attributes                     Low                    Open              \\\n",
       "Symbols           aapl        msft        aapl        msft        aapl   \n",
       "Date                                                                     \n",
       "2010-01-04    7.660714   30.590000    7.585000   30.620001    7.622500   \n",
       "2010-01-05    7.699643   30.639999    7.616071   30.850000    7.664286   \n",
       "2010-01-06    7.686786   30.520000    7.526786   30.879999    7.656429   \n",
       "2010-01-07    7.571429   30.190001    7.466071   30.629999    7.562500   \n",
       "2010-01-08    7.571429   30.240000    7.466429   30.280001    7.510714   \n",
       "...                ...         ...         ...         ...         ...   \n",
       "2022-04-25  163.169998  270.769989  158.460007  273.290009  161.119995   \n",
       "2022-04-26  162.339996  270.000000  156.720001  277.500000  162.250000   \n",
       "2022-04-27  159.789993  279.160004  155.380005  282.100006  155.910004   \n",
       "2022-04-28  164.520004  281.459991  158.929993  285.190002  159.250000   \n",
       "2022-04-29  166.199997  276.500000  157.250000  288.609985  161.839996   \n",
       "\n",
       "Attributes      Volume               \n",
       "Symbols           msft         aapl  \n",
       "Date                                 \n",
       "2010-01-04  38409100.0  493729600.0  \n",
       "2010-01-05  49749600.0  601904800.0  \n",
       "2010-01-06  58182400.0  552160000.0  \n",
       "2010-01-07  50559700.0  477131200.0  \n",
       "2010-01-08  51197400.0  447610800.0  \n",
       "...                ...          ...  \n",
       "2022-04-25  35678900.0   96046400.0  \n",
       "2022-04-26  46518400.0   95623200.0  \n",
       "2022-04-27  63477700.0   88063200.0  \n",
       "2022-04-28  33646600.0  130216800.0  \n",
       "2022-04-29  37025000.0  131587100.0  \n",
       "\n",
       "[3103 rows x 12 columns]"
      ]
     },
     "execution_count": 29,
     "metadata": {},
     "output_type": "execute_result"
    }
   ],
   "source": [
    "df"
   ]
  },
  {
   "cell_type": "code",
   "execution_count": 30,
   "metadata": {},
   "outputs": [
    {
     "name": "stdout",
     "output_type": "stream",
     "text": [
      "<class 'pandas.core.frame.DataFrame'>\n",
      "DatetimeIndex: 3103 entries, 2010-01-04 to 2022-04-29\n",
      "Data columns (total 12 columns):\n",
      " #   Column             Non-Null Count  Dtype  \n",
      "---  ------             --------------  -----  \n",
      " 0   (Adj Close, msft)  3103 non-null   float64\n",
      " 1   (Adj Close, aapl)  3103 non-null   float64\n",
      " 2   (Close, msft)      3103 non-null   float64\n",
      " 3   (Close, aapl)      3103 non-null   float64\n",
      " 4   (High, msft)       3103 non-null   float64\n",
      " 5   (High, aapl)       3103 non-null   float64\n",
      " 6   (Low, msft)        3103 non-null   float64\n",
      " 7   (Low, aapl)        3103 non-null   float64\n",
      " 8   (Open, msft)       3103 non-null   float64\n",
      " 9   (Open, aapl)       3103 non-null   float64\n",
      " 10  (Volume, msft)     3103 non-null   float64\n",
      " 11  (Volume, aapl)     3103 non-null   float64\n",
      "dtypes: float64(12)\n",
      "memory usage: 315.1 KB\n"
     ]
    }
   ],
   "source": [
    "df.info()"
   ]
  },
  {
   "cell_type": "code",
   "execution_count": 36,
   "metadata": {},
   "outputs": [
    {
     "data": {
      "text/plain": [
       "pandas.core.frame.DataFrame"
      ]
     },
     "execution_count": 36,
     "metadata": {},
     "output_type": "execute_result"
    }
   ],
   "source": [
    "type(df)"
   ]
  },
  {
   "cell_type": "code",
   "execution_count": 39,
   "metadata": {},
   "outputs": [
    {
     "data": {
      "text/plain": [
       "Date\n",
       "2010-01-04     30.950001\n",
       "2010-01-05     30.959999\n",
       "2010-01-06     30.770000\n",
       "2010-01-07     30.450001\n",
       "2010-01-08     30.660000\n",
       "                 ...    \n",
       "2022-04-25    280.720001\n",
       "2022-04-26    270.220001\n",
       "2022-04-27    283.220001\n",
       "2022-04-28    289.630005\n",
       "2022-04-29    277.519989\n",
       "Name: msft, Length: 3103, dtype: float64"
      ]
     },
     "execution_count": 39,
     "metadata": {},
     "output_type": "execute_result"
    }
   ],
   "source": [
    "df['Close']['msft']"
   ]
  },
  {
   "cell_type": "code",
   "execution_count": 40,
   "metadata": {},
   "outputs": [
    {
     "data": {
      "text/plain": [
       "<AxesSubplot:xlabel='Date'>"
      ]
     },
     "execution_count": 40,
     "metadata": {},
     "output_type": "execute_result"
    },
    {
     "data": {
      "image/png": "[encoded data removed]",
      "text/plain": [
       "<Figure size 864x576 with 1 Axes>"
      ]
     },
     "metadata": {
      "needs_background": "light"
     },
     "output_type": "display_data"
    }
   ],
   "source": [
    "df.Close.msft.plot(figsize=(12,8))"
   ]
  },
  {
   "cell_type": "code",
   "execution_count": 45,
   "metadata": {},
   "outputs": [
    {
     "data": {
      "image/png": "[encoded data removed]",
      "text/plain": [
       "<Figure size 864x576 with 1 Axes>"
      ]
     },
     "metadata": {
      "needs_background": "light"
     },
     "output_type": "display_data"
    }
   ],
   "source": [
    "df.loc[\"2020-06\":,('Close','msft')].plot(figsize=(12,8))\n",
    "plt.show()"
   ]
  },
  {
   "cell_type": "code",
   "execution_count": null,
   "metadata": {},
   "outputs": [],
   "source": []
  }
 ],
 "metadata": {
  "kernelspec": {
   "display_name": "Python 3",
   "language": "python",
   "name": "python3"
  },
  "language_info": {
   "codemirror_mode": {
    "name": "ipython",
    "version": 3
   },
   "file_extension": ".py",
   "mimetype": "text/x-python",
   "name": "python",
   "nbconvert_exporter": "python",
   "pygments_lexer": "ipython3",
   "version": "3.8.5"
  }
 },
 "nbformat": 4,
 "nbformat_minor": 4
}
